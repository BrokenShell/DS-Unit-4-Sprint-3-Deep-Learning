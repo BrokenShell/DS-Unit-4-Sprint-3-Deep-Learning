{
 "cells": [
  {
   "cell_type": "markdown",
   "metadata": {},
   "source": [
    "<img align=\"left\" src=\"https://lever-client-logos.s3.amazonaws.com/864372b1-534c-480e-acd5-9711f850815c-1524247202159.png\" width=200>\n",
    "<br></br>\n",
    "<br></br>\n",
    "\n",
    "## *Data Science Unit 4 Sprint 3 Assignment 1*\n",
    "\n",
    "# Recurrent Neural Networks and Long Short Term Memory (LSTM)\n",
    "\n",
    "![Monkey at a typewriter](https://upload.wikimedia.org/wikipedia/commons/thumb/3/3c/Chimpanzee_seated_at_typewriter.jpg/603px-Chimpanzee_seated_at_typewriter.jpg)\n",
    "\n",
    "It is said that [infinite monkeys typing for an infinite amount of time](https://en.wikipedia.org/wiki/Infinite_monkey_theorem) will eventually type, among other things, the complete works of Wiliam Shakespeare. Let's see if we can get there a bit faster, with the power of Recurrent Neural Networks and LSTM.\n",
    "\n",
    "This text file contains the complete works of Shakespeare: https://www.gutenberg.org/files/100/100-0.txt\n",
    "\n",
    "Use it as training data for an RNN - you can keep it simple and train character level, and that is suggested as an initial approach.\n",
    "\n",
    "Then, use that trained RNN to generate Shakespearean-ish text. Your goal - a function that can take, as an argument, the size of text (e.g. number of characters or lines) to generate, and returns generated text of that size.\n",
    "\n",
    "Note - Shakespeare wrote an awful lot. It's OK, especially initially, to sample/use smaller data and parameters, so you can have a tighter feedback loop when you're trying to get things running. Then, once you've got a proof of concept - start pushing it more!"
   ]
  },
  {
   "cell_type": "code",
   "execution_count": 35,
   "metadata": {},
   "outputs": [],
   "source": [
    "from tensorflow.keras.callbacks import LambdaCallback, EarlyStopping, TensorBoard\n",
    "from tensorflow.keras.models import Sequential\n",
    "from tensorflow.keras.layers import Dense, LSTM\n",
    "\n",
    "import pandas as pd\n",
    "import numpy as np\n",
    "import random\n",
    "import sys\n",
    "import requests\n",
    "import os\n",
    "import datetime"
   ]
  },
  {
   "cell_type": "code",
   "execution_count": 36,
   "metadata": {},
   "outputs": [],
   "source": [
    "url = \"https://www.gutenberg.org/files/100/100-0.txt\"\n",
    "\n",
    "r = requests.get(url)"
   ]
  },
  {
   "cell_type": "code",
   "execution_count": 37,
   "metadata": {},
   "outputs": [],
   "source": [
    "r.encoding = r.apparent_encoding\n",
    "\n",
    "data = r.text"
   ]
  },
  {
   "cell_type": "code",
   "execution_count": 38,
   "metadata": {},
   "outputs": [
    {
     "data": {
      "text/plain": [
       "'s The Complete Works of William Shakespeare, by William\\r\\nShakespeare\\r\\n'"
      ]
     },
     "execution_count": 38,
     "metadata": {},
     "output_type": "execute_result"
    }
   ],
   "source": [
    "data[20:90]"
   ]
  },
  {
   "cell_type": "code",
   "execution_count": 39,
   "metadata": {},
   "outputs": [],
   "source": [
    "data = data.split('\\r\\n')"
   ]
  },
  {
   "cell_type": "code",
   "execution_count": 40,
   "metadata": {},
   "outputs": [],
   "source": [
    "toc = [l.strip() for l in data[44:130:2]]"
   ]
  },
  {
   "cell_type": "code",
   "execution_count": 41,
   "metadata": {},
   "outputs": [],
   "source": [
    "# Skip the Table of Contents\n",
    "data = data[135:]"
   ]
  },
  {
   "cell_type": "code",
   "execution_count": 42,
   "metadata": {},
   "outputs": [
    {
     "data": {
      "text/plain": [
       "['ALL’S WELL THAT ENDS WELL',\n",
       " 'THE TRAGEDY OF ANTONY AND CLEOPATRA',\n",
       " 'AS YOU LIKE IT',\n",
       " 'THE COMEDY OF ERRORS',\n",
       " 'THE TRAGEDY OF CORIOLANUS',\n",
       " 'CYMBELINE',\n",
       " 'THE TRAGEDY OF HAMLET, PRINCE OF DENMARK',\n",
       " 'THE FIRST PART OF KING HENRY THE FOURTH',\n",
       " 'THE SECOND PART OF KING HENRY THE FOURTH',\n",
       " 'THE LIFE OF KING HENRY THE FIFTH',\n",
       " 'THE FIRST PART OF HENRY THE SIXTH',\n",
       " 'THE SECOND PART OF KING HENRY THE SIXTH',\n",
       " 'THE THIRD PART OF KING HENRY THE SIXTH',\n",
       " 'KING HENRY THE EIGHTH',\n",
       " 'KING JOHN',\n",
       " 'THE TRAGEDY OF JULIUS CAESAR',\n",
       " 'THE TRAGEDY OF KING LEAR',\n",
       " 'LOVE’S LABOUR’S LOST',\n",
       " 'THE TRAGEDY OF MACBETH',\n",
       " 'MEASURE FOR MEASURE',\n",
       " 'THE MERCHANT OF VENICE',\n",
       " 'THE MERRY WIVES OF WINDSOR',\n",
       " 'A MIDSUMMER NIGHT’S DREAM',\n",
       " 'MUCH ADO ABOUT NOTHING',\n",
       " 'THE TRAGEDY OF OTHELLO, MOOR OF VENICE',\n",
       " 'PERICLES, PRINCE OF TYRE',\n",
       " 'KING RICHARD THE SECOND',\n",
       " 'KING RICHARD THE THIRD',\n",
       " 'THE TRAGEDY OF ROMEO AND JULIET',\n",
       " 'THE TAMING OF THE SHREW',\n",
       " 'THE TEMPEST',\n",
       " 'THE LIFE OF TIMON OF ATHENS',\n",
       " 'THE TRAGEDY OF TITUS ANDRONICUS',\n",
       " 'THE HISTORY OF TROILUS AND CRESSIDA',\n",
       " 'TWELFTH NIGHT; OR, WHAT YOU WILL',\n",
       " 'THE TWO GENTLEMEN OF VERONA',\n",
       " 'THE TWO NOBLE KINSMEN',\n",
       " 'THE WINTER’S TALE',\n",
       " 'A LOVER’S COMPLAINT',\n",
       " 'THE PASSIONATE PILGRIM',\n",
       " 'THE PHOENIX AND THE TURTLE',\n",
       " 'THE RAPE OF LUCRECE',\n",
       " 'VENUS AND ADONIS']"
      ]
     },
     "execution_count": 42,
     "metadata": {},
     "output_type": "execute_result"
    }
   ],
   "source": [
    "toc"
   ]
  },
  {
   "cell_type": "code",
   "execution_count": 43,
   "metadata": {},
   "outputs": [
    {
     "data": {
      "text/plain": [
       "43"
      ]
     },
     "execution_count": 43,
     "metadata": {},
     "output_type": "execute_result"
    }
   ],
   "source": [
    "len(toc)"
   ]
  },
  {
   "cell_type": "code",
   "execution_count": 44,
   "metadata": {},
   "outputs": [],
   "source": [
    "# Fixing Titles\n",
    "toc[9] = 'THE LIFE OF KING HENRY V'\n",
    "toc[18] = 'MACBETH'\n",
    "toc[24] = 'OTHELLO, THE MOOR OF VENICE'\n",
    "toc[34] = 'TWELFTH NIGHT: OR, WHAT YOU WILL'"
   ]
  },
  {
   "cell_type": "code",
   "execution_count": 45,
   "metadata": {},
   "outputs": [],
   "source": [
    "locations = {\n",
    "    id_: {\n",
    "        'title': title, \n",
    "        'start': -99,\n",
    "    } for id_, title in enumerate(toc)}"
   ]
  },
  {
   "cell_type": "code",
   "execution_count": 46,
   "metadata": {},
   "outputs": [],
   "source": [
    "# Start \n",
    "for e, i in enumerate(data):\n",
    "    for t,title in enumerate(toc):\n",
    "        if title in i:\n",
    "            locations[t].update({'start': e})"
   ]
  },
  {
   "cell_type": "code",
   "execution_count": 47,
   "metadata": {},
   "outputs": [],
   "source": [
    "df_toc = pd.DataFrame.from_dict(locations, orient='index')"
   ]
  },
  {
   "cell_type": "code",
   "execution_count": 48,
   "metadata": {},
   "outputs": [
    {
     "data": {
      "text/html": [
       "<div>\n",
       "<style scoped>\n",
       "    .dataframe tbody tr th:only-of-type {\n",
       "        vertical-align: middle;\n",
       "    }\n",
       "\n",
       "    .dataframe tbody tr th {\n",
       "        vertical-align: top;\n",
       "    }\n",
       "\n",
       "    .dataframe thead th {\n",
       "        text-align: right;\n",
       "    }\n",
       "</style>\n",
       "<table border=\"1\" class=\"dataframe\">\n",
       "  <thead>\n",
       "    <tr style=\"text-align: right;\">\n",
       "      <th></th>\n",
       "      <th>title</th>\n",
       "      <th>start</th>\n",
       "    </tr>\n",
       "  </thead>\n",
       "  <tbody>\n",
       "    <tr>\n",
       "      <th>0</th>\n",
       "      <td>ALL’S WELL THAT ENDS WELL</td>\n",
       "      <td>2777</td>\n",
       "    </tr>\n",
       "    <tr>\n",
       "      <th>1</th>\n",
       "      <td>THE TRAGEDY OF ANTONY AND CLEOPATRA</td>\n",
       "      <td>7739</td>\n",
       "    </tr>\n",
       "    <tr>\n",
       "      <th>2</th>\n",
       "      <td>AS YOU LIKE IT</td>\n",
       "      <td>11841</td>\n",
       "    </tr>\n",
       "    <tr>\n",
       "      <th>3</th>\n",
       "      <td>THE COMEDY OF ERRORS</td>\n",
       "      <td>14632</td>\n",
       "    </tr>\n",
       "    <tr>\n",
       "      <th>4</th>\n",
       "      <td>THE TRAGEDY OF CORIOLANUS</td>\n",
       "      <td>17833</td>\n",
       "    </tr>\n",
       "    <tr>\n",
       "      <th>5</th>\n",
       "      <td>CYMBELINE</td>\n",
       "      <td>27807</td>\n",
       "    </tr>\n",
       "    <tr>\n",
       "      <th>6</th>\n",
       "      <td>THE TRAGEDY OF HAMLET, PRINCE OF DENMARK</td>\n",
       "      <td>27825</td>\n",
       "    </tr>\n",
       "    <tr>\n",
       "      <th>7</th>\n",
       "      <td>THE FIRST PART OF KING HENRY THE FOURTH</td>\n",
       "      <td>34512</td>\n",
       "    </tr>\n",
       "    <tr>\n",
       "      <th>8</th>\n",
       "      <td>THE SECOND PART OF KING HENRY THE FOURTH</td>\n",
       "      <td>39228</td>\n",
       "    </tr>\n",
       "    <tr>\n",
       "      <th>9</th>\n",
       "      <td>THE LIFE OF KING HENRY V</td>\n",
       "      <td>42637</td>\n",
       "    </tr>\n",
       "    <tr>\n",
       "      <th>10</th>\n",
       "      <td>THE FIRST PART OF HENRY THE SIXTH</td>\n",
       "      <td>47573</td>\n",
       "    </tr>\n",
       "    <tr>\n",
       "      <th>11</th>\n",
       "      <td>THE SECOND PART OF KING HENRY THE SIXTH</td>\n",
       "      <td>50844</td>\n",
       "    </tr>\n",
       "    <tr>\n",
       "      <th>12</th>\n",
       "      <td>THE THIRD PART OF KING HENRY THE SIXTH</td>\n",
       "      <td>54332</td>\n",
       "    </tr>\n",
       "    <tr>\n",
       "      <th>13</th>\n",
       "      <td>KING HENRY THE EIGHTH</td>\n",
       "      <td>57718</td>\n",
       "    </tr>\n",
       "    <tr>\n",
       "      <th>14</th>\n",
       "      <td>KING JOHN</td>\n",
       "      <td>64171</td>\n",
       "    </tr>\n",
       "    <tr>\n",
       "      <th>15</th>\n",
       "      <td>THE TRAGEDY OF JULIUS CAESAR</td>\n",
       "      <td>64244</td>\n",
       "    </tr>\n",
       "    <tr>\n",
       "      <th>16</th>\n",
       "      <td>THE TRAGEDY OF KING LEAR</td>\n",
       "      <td>68888</td>\n",
       "    </tr>\n",
       "    <tr>\n",
       "      <th>17</th>\n",
       "      <td>LOVE’S LABOUR’S LOST</td>\n",
       "      <td>74924</td>\n",
       "    </tr>\n",
       "    <tr>\n",
       "      <th>18</th>\n",
       "      <td>MACBETH</td>\n",
       "      <td>81888</td>\n",
       "    </tr>\n",
       "    <tr>\n",
       "      <th>19</th>\n",
       "      <td>MEASURE FOR MEASURE</td>\n",
       "      <td>81988</td>\n",
       "    </tr>\n",
       "    <tr>\n",
       "      <th>20</th>\n",
       "      <td>THE MERCHANT OF VENICE</td>\n",
       "      <td>84988</td>\n",
       "    </tr>\n",
       "    <tr>\n",
       "      <th>21</th>\n",
       "      <td>THE MERRY WIVES OF WINDSOR</td>\n",
       "      <td>89156</td>\n",
       "    </tr>\n",
       "    <tr>\n",
       "      <th>22</th>\n",
       "      <td>A MIDSUMMER NIGHT’S DREAM</td>\n",
       "      <td>92115</td>\n",
       "    </tr>\n",
       "    <tr>\n",
       "      <th>23</th>\n",
       "      <td>MUCH ADO ABOUT NOTHING</td>\n",
       "      <td>95575</td>\n",
       "    </tr>\n",
       "    <tr>\n",
       "      <th>24</th>\n",
       "      <td>OTHELLO, THE MOOR OF VENICE</td>\n",
       "      <td>101287</td>\n",
       "    </tr>\n",
       "    <tr>\n",
       "      <th>25</th>\n",
       "      <td>PERICLES, PRINCE OF TYRE</td>\n",
       "      <td>107557</td>\n",
       "    </tr>\n",
       "    <tr>\n",
       "      <th>26</th>\n",
       "      <td>KING RICHARD THE SECOND</td>\n",
       "      <td>111700</td>\n",
       "    </tr>\n",
       "    <tr>\n",
       "      <th>27</th>\n",
       "      <td>KING RICHARD THE THIRD</td>\n",
       "      <td>114793</td>\n",
       "    </tr>\n",
       "    <tr>\n",
       "      <th>28</th>\n",
       "      <td>THE TRAGEDY OF ROMEO AND JULIET</td>\n",
       "      <td>119201</td>\n",
       "    </tr>\n",
       "    <tr>\n",
       "      <th>29</th>\n",
       "      <td>THE TAMING OF THE SHREW</td>\n",
       "      <td>124457</td>\n",
       "    </tr>\n",
       "    <tr>\n",
       "      <th>30</th>\n",
       "      <td>THE TEMPEST</td>\n",
       "      <td>129331</td>\n",
       "    </tr>\n",
       "    <tr>\n",
       "      <th>31</th>\n",
       "      <td>THE LIFE OF TIMON OF ATHENS</td>\n",
       "      <td>133154</td>\n",
       "    </tr>\n",
       "    <tr>\n",
       "      <th>32</th>\n",
       "      <td>THE TRAGEDY OF TITUS ANDRONICUS</td>\n",
       "      <td>135870</td>\n",
       "    </tr>\n",
       "    <tr>\n",
       "      <th>33</th>\n",
       "      <td>THE HISTORY OF TROILUS AND CRESSIDA</td>\n",
       "      <td>138746</td>\n",
       "    </tr>\n",
       "    <tr>\n",
       "      <th>34</th>\n",
       "      <td>TWELFTH NIGHT: OR, WHAT YOU WILL</td>\n",
       "      <td>144909</td>\n",
       "    </tr>\n",
       "    <tr>\n",
       "      <th>35</th>\n",
       "      <td>THE TWO GENTLEMEN OF VERONA</td>\n",
       "      <td>149392</td>\n",
       "    </tr>\n",
       "    <tr>\n",
       "      <th>36</th>\n",
       "      <td>THE TWO NOBLE KINSMEN</td>\n",
       "      <td>151804</td>\n",
       "    </tr>\n",
       "    <tr>\n",
       "      <th>37</th>\n",
       "      <td>THE WINTER’S TALE</td>\n",
       "      <td>156992</td>\n",
       "    </tr>\n",
       "    <tr>\n",
       "      <th>38</th>\n",
       "      <td>A LOVER’S COMPLAINT</td>\n",
       "      <td>162007</td>\n",
       "    </tr>\n",
       "    <tr>\n",
       "      <th>39</th>\n",
       "      <td>THE PASSIONATE PILGRIM</td>\n",
       "      <td>162390</td>\n",
       "    </tr>\n",
       "    <tr>\n",
       "      <th>40</th>\n",
       "      <td>THE PHOENIX AND THE TURTLE</td>\n",
       "      <td>162630</td>\n",
       "    </tr>\n",
       "    <tr>\n",
       "      <th>41</th>\n",
       "      <td>THE RAPE OF LUCRECE</td>\n",
       "      <td>162724</td>\n",
       "    </tr>\n",
       "    <tr>\n",
       "      <th>42</th>\n",
       "      <td>VENUS AND ADONIS</td>\n",
       "      <td>164943</td>\n",
       "    </tr>\n",
       "  </tbody>\n",
       "</table>\n",
       "</div>"
      ],
      "text/plain": [
       "                                       title   start\n",
       "0                  ALL’S WELL THAT ENDS WELL    2777\n",
       "1        THE TRAGEDY OF ANTONY AND CLEOPATRA    7739\n",
       "2                             AS YOU LIKE IT   11841\n",
       "3                       THE COMEDY OF ERRORS   14632\n",
       "4                  THE TRAGEDY OF CORIOLANUS   17833\n",
       "5                                  CYMBELINE   27807\n",
       "6   THE TRAGEDY OF HAMLET, PRINCE OF DENMARK   27825\n",
       "7    THE FIRST PART OF KING HENRY THE FOURTH   34512\n",
       "8   THE SECOND PART OF KING HENRY THE FOURTH   39228\n",
       "9                   THE LIFE OF KING HENRY V   42637\n",
       "10         THE FIRST PART OF HENRY THE SIXTH   47573\n",
       "11   THE SECOND PART OF KING HENRY THE SIXTH   50844\n",
       "12    THE THIRD PART OF KING HENRY THE SIXTH   54332\n",
       "13                     KING HENRY THE EIGHTH   57718\n",
       "14                                 KING JOHN   64171\n",
       "15              THE TRAGEDY OF JULIUS CAESAR   64244\n",
       "16                  THE TRAGEDY OF KING LEAR   68888\n",
       "17                      LOVE’S LABOUR’S LOST   74924\n",
       "18                                   MACBETH   81888\n",
       "19                       MEASURE FOR MEASURE   81988\n",
       "20                    THE MERCHANT OF VENICE   84988\n",
       "21                THE MERRY WIVES OF WINDSOR   89156\n",
       "22                 A MIDSUMMER NIGHT’S DREAM   92115\n",
       "23                    MUCH ADO ABOUT NOTHING   95575\n",
       "24               OTHELLO, THE MOOR OF VENICE  101287\n",
       "25                  PERICLES, PRINCE OF TYRE  107557\n",
       "26                   KING RICHARD THE SECOND  111700\n",
       "27                    KING RICHARD THE THIRD  114793\n",
       "28           THE TRAGEDY OF ROMEO AND JULIET  119201\n",
       "29                   THE TAMING OF THE SHREW  124457\n",
       "30                               THE TEMPEST  129331\n",
       "31               THE LIFE OF TIMON OF ATHENS  133154\n",
       "32           THE TRAGEDY OF TITUS ANDRONICUS  135870\n",
       "33       THE HISTORY OF TROILUS AND CRESSIDA  138746\n",
       "34          TWELFTH NIGHT: OR, WHAT YOU WILL  144909\n",
       "35               THE TWO GENTLEMEN OF VERONA  149392\n",
       "36                     THE TWO NOBLE KINSMEN  151804\n",
       "37                         THE WINTER’S TALE  156992\n",
       "38                       A LOVER’S COMPLAINT  162007\n",
       "39                    THE PASSIONATE PILGRIM  162390\n",
       "40                THE PHOENIX AND THE TURTLE  162630\n",
       "41                       THE RAPE OF LUCRECE  162724\n",
       "42                          VENUS AND ADONIS  164943"
      ]
     },
     "execution_count": 48,
     "metadata": {},
     "output_type": "execute_result"
    }
   ],
   "source": [
    "df_toc"
   ]
  },
  {
   "cell_type": "code",
   "execution_count": 49,
   "metadata": {},
   "outputs": [],
   "source": [
    "df_toc['end'] = df_toc['start'].shift(-1).apply(lambda x: x-1)"
   ]
  },
  {
   "cell_type": "code",
   "execution_count": 50,
   "metadata": {},
   "outputs": [],
   "source": [
    "df_toc.loc[42, 'end'] = len(data)"
   ]
  },
  {
   "cell_type": "code",
   "execution_count": 51,
   "metadata": {},
   "outputs": [
    {
     "data": {
      "text/html": [
       "<div>\n",
       "<style scoped>\n",
       "    .dataframe tbody tr th:only-of-type {\n",
       "        vertical-align: middle;\n",
       "    }\n",
       "\n",
       "    .dataframe tbody tr th {\n",
       "        vertical-align: top;\n",
       "    }\n",
       "\n",
       "    .dataframe thead th {\n",
       "        text-align: right;\n",
       "    }\n",
       "</style>\n",
       "<table border=\"1\" class=\"dataframe\">\n",
       "  <thead>\n",
       "    <tr style=\"text-align: right;\">\n",
       "      <th></th>\n",
       "      <th>title</th>\n",
       "      <th>start</th>\n",
       "      <th>end</th>\n",
       "    </tr>\n",
       "  </thead>\n",
       "  <tbody>\n",
       "    <tr>\n",
       "      <th>38</th>\n",
       "      <td>A LOVER’S COMPLAINT</td>\n",
       "      <td>162007</td>\n",
       "      <td>162389.0</td>\n",
       "    </tr>\n",
       "    <tr>\n",
       "      <th>39</th>\n",
       "      <td>THE PASSIONATE PILGRIM</td>\n",
       "      <td>162390</td>\n",
       "      <td>162629.0</td>\n",
       "    </tr>\n",
       "    <tr>\n",
       "      <th>40</th>\n",
       "      <td>THE PHOENIX AND THE TURTLE</td>\n",
       "      <td>162630</td>\n",
       "      <td>162723.0</td>\n",
       "    </tr>\n",
       "    <tr>\n",
       "      <th>41</th>\n",
       "      <td>THE RAPE OF LUCRECE</td>\n",
       "      <td>162724</td>\n",
       "      <td>164942.0</td>\n",
       "    </tr>\n",
       "    <tr>\n",
       "      <th>42</th>\n",
       "      <td>VENUS AND ADONIS</td>\n",
       "      <td>164943</td>\n",
       "      <td>166768.0</td>\n",
       "    </tr>\n",
       "  </tbody>\n",
       "</table>\n",
       "</div>"
      ],
      "text/plain": [
       "                         title   start       end\n",
       "38         A LOVER’S COMPLAINT  162007  162389.0\n",
       "39      THE PASSIONATE PILGRIM  162390  162629.0\n",
       "40  THE PHOENIX AND THE TURTLE  162630  162723.0\n",
       "41         THE RAPE OF LUCRECE  162724  164942.0\n",
       "42            VENUS AND ADONIS  164943  166768.0"
      ]
     },
     "execution_count": 51,
     "metadata": {},
     "output_type": "execute_result"
    }
   ],
   "source": [
    "df_toc.tail()"
   ]
  },
  {
   "cell_type": "code",
   "execution_count": 52,
   "metadata": {},
   "outputs": [],
   "source": [
    "df_toc['text'] = df_toc.apply(lambda x: '\\r\\n'.join(data[ x['start'] : int(x['end']) ]), axis=1)"
   ]
  },
  {
   "cell_type": "code",
   "execution_count": 53,
   "metadata": {},
   "outputs": [
    {
     "data": {
      "text/html": [
       "<div>\n",
       "<style scoped>\n",
       "    .dataframe tbody tr th:only-of-type {\n",
       "        vertical-align: middle;\n",
       "    }\n",
       "\n",
       "    .dataframe tbody tr th {\n",
       "        vertical-align: top;\n",
       "    }\n",
       "\n",
       "    .dataframe thead th {\n",
       "        text-align: right;\n",
       "    }\n",
       "</style>\n",
       "<table border=\"1\" class=\"dataframe\">\n",
       "  <thead>\n",
       "    <tr style=\"text-align: right;\">\n",
       "      <th></th>\n",
       "      <th>title</th>\n",
       "      <th>start</th>\n",
       "      <th>end</th>\n",
       "      <th>text</th>\n",
       "    </tr>\n",
       "  </thead>\n",
       "  <tbody>\n",
       "    <tr>\n",
       "      <th>0</th>\n",
       "      <td>ALL’S WELL THAT ENDS WELL</td>\n",
       "      <td>2777</td>\n",
       "      <td>7738.0</td>\n",
       "      <td>ALL’S WELL THAT ENDS WELL\\r\\n\\r\\n\\r\\n\\r\\nConte...</td>\n",
       "    </tr>\n",
       "    <tr>\n",
       "      <th>1</th>\n",
       "      <td>THE TRAGEDY OF ANTONY AND CLEOPATRA</td>\n",
       "      <td>7739</td>\n",
       "      <td>11840.0</td>\n",
       "      <td>THE TRAGEDY OF ANTONY AND CLEOPATRA\\r\\n\\r\\nDRA...</td>\n",
       "    </tr>\n",
       "    <tr>\n",
       "      <th>2</th>\n",
       "      <td>AS YOU LIKE IT</td>\n",
       "      <td>11841</td>\n",
       "      <td>14631.0</td>\n",
       "      <td>AS YOU LIKE IT\\r\\n\\r\\nDRAMATIS PERSONAE.\\r\\n\\r...</td>\n",
       "    </tr>\n",
       "    <tr>\n",
       "      <th>3</th>\n",
       "      <td>THE COMEDY OF ERRORS</td>\n",
       "      <td>14632</td>\n",
       "      <td>17832.0</td>\n",
       "      <td>THE COMEDY OF ERRORS\\r\\n\\r\\n\\r\\n\\r\\nContents\\r...</td>\n",
       "    </tr>\n",
       "    <tr>\n",
       "      <th>4</th>\n",
       "      <td>THE TRAGEDY OF CORIOLANUS</td>\n",
       "      <td>17833</td>\n",
       "      <td>27806.0</td>\n",
       "      <td>THE TRAGEDY OF CORIOLANUS\\r\\n\\r\\nDramatis Pers...</td>\n",
       "    </tr>\n",
       "  </tbody>\n",
       "</table>\n",
       "</div>"
      ],
      "text/plain": [
       "                                 title  start      end  \\\n",
       "0            ALL’S WELL THAT ENDS WELL   2777   7738.0   \n",
       "1  THE TRAGEDY OF ANTONY AND CLEOPATRA   7739  11840.0   \n",
       "2                       AS YOU LIKE IT  11841  14631.0   \n",
       "3                 THE COMEDY OF ERRORS  14632  17832.0   \n",
       "4            THE TRAGEDY OF CORIOLANUS  17833  27806.0   \n",
       "\n",
       "                                                text  \n",
       "0  ALL’S WELL THAT ENDS WELL\\r\\n\\r\\n\\r\\n\\r\\nConte...  \n",
       "1  THE TRAGEDY OF ANTONY AND CLEOPATRA\\r\\n\\r\\nDRA...  \n",
       "2  AS YOU LIKE IT\\r\\n\\r\\nDRAMATIS PERSONAE.\\r\\n\\r...  \n",
       "3  THE COMEDY OF ERRORS\\r\\n\\r\\n\\r\\n\\r\\nContents\\r...  \n",
       "4  THE TRAGEDY OF CORIOLANUS\\r\\n\\r\\nDramatis Pers...  "
      ]
     },
     "execution_count": 53,
     "metadata": {},
     "output_type": "execute_result"
    }
   ],
   "source": [
    "df_toc.head()"
   ]
  },
  {
   "cell_type": "code",
   "execution_count": 54,
   "metadata": {},
   "outputs": [],
   "source": [
    "# divide b/w plays and sonets\n",
    "sonets = data[:2776]\n",
    "plays = data[2777:]"
   ]
  },
  {
   "cell_type": "code",
   "execution_count": 55,
   "metadata": {},
   "outputs": [
    {
     "data": {
      "text/plain": [
       "'THE SONNETS'"
      ]
     },
     "execution_count": 55,
     "metadata": {},
     "output_type": "execute_result"
    }
   ],
   "source": [
    "data[0]"
   ]
  },
  {
   "cell_type": "code",
   "execution_count": 56,
   "metadata": {},
   "outputs": [],
   "source": [
    "def long_lines(lst_ln):\n",
    "    clean = []\n",
    "    \n",
    "    for ln in lst_ln: \n",
    "        \n",
    "        if len(ln) == 0:\n",
    "            pass\n",
    "        else:\n",
    "            pct = len(ln.strip(' ')) / len(ln)\n",
    "\n",
    "            if pct >= .5:\n",
    "                clean.append(ln.lstrip())\n",
    "\n",
    "    return clean"
   ]
  },
  {
   "cell_type": "code",
   "execution_count": 57,
   "metadata": {},
   "outputs": [],
   "source": [
    "# May Not be Needed\n",
    "sonets = long_lines(sonets)\n",
    "plays = long_lines(plays)"
   ]
  },
  {
   "cell_type": "markdown",
   "metadata": {},
   "source": [
    "## Word Encoding\n",
    "\n",
    "This is just a start, and is not complete yet. "
   ]
  },
  {
   "cell_type": "code",
   "execution_count": 58,
   "metadata": {},
   "outputs": [],
   "source": [
    "vocab = list(set(\"\\r\\n\".join(plays).split()))\n",
    "words = [line.split() for line in plays]"
   ]
  },
  {
   "cell_type": "code",
   "execution_count": 59,
   "metadata": {},
   "outputs": [
    {
     "data": {
      "text/plain": [
       "75585"
      ]
     },
     "execution_count": 59,
     "metadata": {},
     "output_type": "execute_result"
    }
   ],
   "source": [
    "len(vocab)"
   ]
  },
  {
   "cell_type": "code",
   "execution_count": null,
   "metadata": {},
   "outputs": [],
   "source": []
  },
  {
   "cell_type": "markdown",
   "metadata": {},
   "source": [
    "## Character Encoding\n",
    "\n",
    "Using the technique shown in lecture. "
   ]
  },
  {
   "cell_type": "code",
   "execution_count": 60,
   "metadata": {},
   "outputs": [
    {
     "name": "stdout",
     "output_type": "stream",
     "text": [
      "Our corpus contains 63 unique characters.\n"
     ]
    }
   ],
   "source": [
    "text = '\\r\\n'.join(sonets)\n",
    "\n",
    "chars = list(set(text))\n",
    "\n",
    "char_int = {c:i for i,c in enumerate(chars)}\n",
    "int_char = {i:c for i,c in enumerate(chars)}\n",
    "\n",
    "print(f\"Our corpus contains {len(chars)} unique characters.\")"
   ]
  },
  {
   "cell_type": "code",
   "execution_count": 61,
   "metadata": {},
   "outputs": [
    {
     "name": "stdout",
     "output_type": "stream",
     "text": [
      "sequences: 19160\n"
     ]
    }
   ],
   "source": [
    "# Create the Sequence Data\n",
    "\n",
    "maxlen = 40\n",
    "step = 5\n",
    "\n",
    "encoded = [char_int[c] for c in text]\n",
    "\n",
    "sequences = [] # Each element is 40 characters long\n",
    "next_chars = [] # One element for each sequence\n",
    "\n",
    "for i in range(0, len(encoded) - maxlen, step):\n",
    "    sequences.append(encoded[i : i + maxlen])\n",
    "    next_chars.append(encoded[i + maxlen])\n",
    "    \n",
    "print('sequences:', len(sequences))"
   ]
  },
  {
   "cell_type": "code",
   "execution_count": 62,
   "metadata": {},
   "outputs": [],
   "source": [
    "import numpy as np\n",
    "\n",
    "# Specify x & y\n",
    "\n",
    "x = np.zeros((len(sequences), maxlen, len(chars)), dtype=np.bool)\n",
    "y = np.zeros((len(sequences), len(chars)), dtype=np.bool)\n",
    "\n",
    "for i, sequence in enumerate(sequences):\n",
    "    for t, char in enumerate(sequence):\n",
    "        x[i,t,char] = 1\n",
    "        \n",
    "    y[i, next_chars[i]] = 1"
   ]
  },
  {
   "cell_type": "code",
   "execution_count": 63,
   "metadata": {},
   "outputs": [
    {
     "data": {
      "text/plain": [
       "(19160, 40, 63)"
      ]
     },
     "execution_count": 63,
     "metadata": {},
     "output_type": "execute_result"
    }
   ],
   "source": [
    "x.shape"
   ]
  },
  {
   "cell_type": "code",
   "execution_count": 64,
   "metadata": {},
   "outputs": [],
   "source": [
    "# build the model: a single LSTM\n",
    "\n",
    "model = Sequential()\n",
    "model.add(LSTM(128, input_shape=(maxlen, len(chars)), dropout=0.2))\n",
    "model.add(Dense(len(chars), activation='softmax'))\n",
    "\n",
    "model.compile(loss='categorical_crossentropy', optimizer='nadam')"
   ]
  },
  {
   "cell_type": "code",
   "execution_count": 65,
   "metadata": {},
   "outputs": [
    {
     "name": "stdout",
     "output_type": "stream",
     "text": [
      "Model: \"sequential_1\"\n",
      "_________________________________________________________________\n",
      "Layer (type)                 Output Shape              Param #   \n",
      "=================================================================\n",
      "lstm_1 (LSTM)                (None, 128)               98304     \n",
      "_________________________________________________________________\n",
      "dense_1 (Dense)              (None, 63)                8127      \n",
      "=================================================================\n",
      "Total params: 106,431\n",
      "Trainable params: 106,431\n",
      "Non-trainable params: 0\n",
      "_________________________________________________________________\n"
     ]
    }
   ],
   "source": [
    "model.summary()"
   ]
  },
  {
   "cell_type": "code",
   "execution_count": 66,
   "metadata": {},
   "outputs": [],
   "source": [
    "def sample(preds):\n",
    "    # helper function to sample an index from a probability array\n",
    "    preds = np.asarray(preds).astype('float64')\n",
    "    preds = np.log(preds) / 1\n",
    "    exp_preds = np.exp(preds)\n",
    "    preds = exp_preds / np.sum(exp_preds)\n",
    "    probas = np.random.multinomial(1, preds, 1)\n",
    "    return np.argmax(probas)"
   ]
  },
  {
   "cell_type": "code",
   "execution_count": 67,
   "metadata": {},
   "outputs": [],
   "source": [
    "def on_epoch_end(epoch, _):\n",
    "    # Function invoked at end of each epoch. Prints generated text.\n",
    "    \n",
    "    print()\n",
    "    print('----- Generating text after Epoch: %d' % epoch)\n",
    "    \n",
    "    start_index = random.randint(0, len(text) - maxlen - 1)\n",
    "    \n",
    "    generated = ''\n",
    "    \n",
    "    sentence = text[start_index: start_index + maxlen]\n",
    "    generated += sentence\n",
    "    \n",
    "    print('----- Generating with seed: \"' + sentence + '\"')\n",
    "    sys.stdout.write(generated)\n",
    "    \n",
    "    for i in range(400):\n",
    "        x_pred = np.zeros((1, maxlen, len(chars)))\n",
    "        for t, char in enumerate(sentence):\n",
    "            x_pred[0, t, char_int[char]] = 1\n",
    "            \n",
    "        preds = model.predict(x_pred, verbose=0)[0]\n",
    "        next_index = sample(preds)\n",
    "        next_char = int_char[next_index]\n",
    "        \n",
    "        sentence = sentence[1:] + next_char\n",
    "        \n",
    "        sys.stdout.write(next_char)\n",
    "        sys.stdout.flush()\n",
    "    print()\n",
    "\n",
    "\n",
    "print_callback = LambdaCallback(on_epoch_end=on_epoch_end)"
   ]
  },
  {
   "cell_type": "code",
   "execution_count": 68,
   "metadata": {},
   "outputs": [
    {
     "name": "stdout",
     "output_type": "stream",
     "text": [
      "Epoch 1/50\n",
      "15/15 [==============================] - 4s 285ms/step - loss: 3.6671 - val_loss: 3.1560\n",
      "Epoch 2/50\n",
      "15/15 [==============================] - 4s 260ms/step - loss: 3.1364 - val_loss: 3.1099\n",
      "Epoch 3/50\n",
      "15/15 [==============================] - 4s 264ms/step - loss: 3.1152 - val_loss: 3.1004\n",
      "Epoch 4/50\n",
      "15/15 [==============================] - 4s 262ms/step - loss: 3.1037 - val_loss: 3.0865\n",
      "Epoch 5/50\n",
      "15/15 [==============================] - 4s 264ms/step - loss: 3.0890 - val_loss: 3.0728\n",
      "Epoch 6/50\n",
      "15/15 [==============================] - 4s 264ms/step - loss: 3.0745 - val_loss: 3.0551\n",
      "Epoch 7/50\n",
      "15/15 [==============================] - 4s 262ms/step - loss: 3.0575 - val_loss: 3.0421\n",
      "Epoch 8/50\n",
      "15/15 [==============================] - 4s 261ms/step - loss: 3.0377 - val_loss: 3.0154\n",
      "Epoch 9/50\n",
      "15/15 [==============================] - 4s 263ms/step - loss: 3.0147 - val_loss: 2.9904\n",
      "Epoch 10/50\n",
      "15/15 [==============================] - 4s 261ms/step - loss: 2.9908 - val_loss: 2.9647\n",
      "Epoch 11/50\n",
      "15/15 [==============================] - 4s 260ms/step - loss: 2.9633 - val_loss: 2.9426\n",
      "Epoch 12/50\n",
      "15/15 [==============================] - 4s 260ms/step - loss: 2.9316 - val_loss: 2.9069\n",
      "Epoch 13/50\n",
      "15/15 [==============================] - 4s 262ms/step - loss: 2.8980 - val_loss: 2.8628\n",
      "Epoch 14/50\n",
      "15/15 [==============================] - 4s 262ms/step - loss: 2.8604 - val_loss: 2.8190\n",
      "Epoch 15/50\n",
      "15/15 [==============================] - 4s 263ms/step - loss: 2.8159 - val_loss: 2.7688\n",
      "Epoch 16/50\n",
      "15/15 [==============================] - 4s 260ms/step - loss: 2.7675 - val_loss: 2.7112\n",
      "Epoch 17/50\n",
      "15/15 [==============================] - 4s 262ms/step - loss: 2.7189 - val_loss: 2.6625\n",
      "Epoch 18/50\n",
      "15/15 [==============================] - 4s 262ms/step - loss: 2.6769 - val_loss: 2.6132\n",
      "Epoch 19/50\n",
      "15/15 [==============================] - 4s 261ms/step - loss: 2.6390 - val_loss: 2.5715\n",
      "Epoch 20/50\n",
      "15/15 [==============================] - 4s 260ms/step - loss: 2.5993 - val_loss: 2.5372\n",
      "Epoch 21/50\n",
      "15/15 [==============================] - 4s 260ms/step - loss: 2.5689 - val_loss: 2.5044\n",
      "Epoch 22/50\n",
      "15/15 [==============================] - 4s 261ms/step - loss: 2.5498 - val_loss: 2.4730\n",
      "Epoch 23/50\n",
      "15/15 [==============================] - 4s 262ms/step - loss: 2.5344 - val_loss: 2.4480\n",
      "Epoch 24/50\n",
      "15/15 [==============================] - 4s 261ms/step - loss: 2.5062 - val_loss: 2.4261\n",
      "Epoch 25/50\n",
      "15/15 [==============================] - 4s 262ms/step - loss: 2.4865 - val_loss: 2.4086\n",
      "Epoch 26/50\n",
      "15/15 [==============================] - 4s 263ms/step - loss: 2.4772 - val_loss: 2.3918\n",
      "Epoch 27/50\n",
      "15/15 [==============================] - 4s 262ms/step - loss: 2.4527 - val_loss: 2.3732\n",
      "Epoch 28/50\n",
      "15/15 [==============================] - 4s 261ms/step - loss: 2.4405 - val_loss: 2.3548\n",
      "Epoch 29/50\n",
      "15/15 [==============================] - 4s 262ms/step - loss: 2.4285 - val_loss: 2.3466\n",
      "Epoch 30/50\n",
      "15/15 [==============================] - 4s 259ms/step - loss: 2.4244 - val_loss: 2.3354\n",
      "Epoch 31/50\n",
      "15/15 [==============================] - 4s 261ms/step - loss: 2.4157 - val_loss: 2.3160\n",
      "Epoch 32/50\n",
      "15/15 [==============================] - 4s 261ms/step - loss: 2.3969 - val_loss: 2.3084\n",
      "Epoch 33/50\n",
      "15/15 [==============================] - 4s 261ms/step - loss: 2.3926 - val_loss: 2.3023\n",
      "Epoch 34/50\n",
      "15/15 [==============================] - 4s 259ms/step - loss: 2.3826 - val_loss: 2.2907\n",
      "Epoch 35/50\n",
      "15/15 [==============================] - 4s 262ms/step - loss: 2.3749 - val_loss: 2.2771\n",
      "Epoch 36/50\n",
      "15/15 [==============================] - 4s 262ms/step - loss: 2.3672 - val_loss: 2.2734\n",
      "Epoch 37/50\n",
      "15/15 [==============================] - 4s 262ms/step - loss: 2.3535 - val_loss: 2.2663\n",
      "Epoch 38/50\n",
      "15/15 [==============================] - 4s 263ms/step - loss: 2.3518 - val_loss: 2.2566\n",
      "Epoch 39/50\n",
      "15/15 [==============================] - 4s 263ms/step - loss: 2.3454 - val_loss: 2.2454\n",
      "Epoch 40/50\n",
      "15/15 [==============================] - 4s 263ms/step - loss: 2.3320 - val_loss: 2.2333\n",
      "Epoch 41/50\n",
      "15/15 [==============================] - 4s 262ms/step - loss: 2.3174 - val_loss: 2.2200\n",
      "Epoch 42/50\n",
      "15/15 [==============================] - 4s 262ms/step - loss: 2.3189 - val_loss: 2.2074\n",
      "Epoch 43/50\n",
      "15/15 [==============================] - 4s 261ms/step - loss: 2.2972 - val_loss: 2.2007\n",
      "Epoch 44/50\n",
      "15/15 [==============================] - 4s 263ms/step - loss: 2.2840 - val_loss: 2.1921\n",
      "Epoch 45/50\n",
      "15/15 [==============================] - 4s 260ms/step - loss: 2.2719 - val_loss: 2.1815\n",
      "Epoch 46/50\n",
      "15/15 [==============================] - 4s 263ms/step - loss: 2.2734 - val_loss: 2.1794\n",
      "Epoch 47/50\n",
      "15/15 [==============================] - 4s 259ms/step - loss: 2.2646 - val_loss: 2.1739\n",
      "Epoch 48/50\n",
      "15/15 [==============================] - 4s 261ms/step - loss: 2.2575 - val_loss: 2.1669\n",
      "Epoch 49/50\n",
      "15/15 [==============================] - 4s 260ms/step - loss: 2.2526 - val_loss: 2.1597\n",
      "Epoch 50/50\n",
      "15/15 [==============================] - 4s 258ms/step - loss: 2.2465 - val_loss: 2.1535\n"
     ]
    },
    {
     "data": {
      "text/plain": [
       "<tensorflow.python.keras.callbacks.History at 0x7fb54ca268e0>"
      ]
     },
     "execution_count": 68,
     "metadata": {},
     "output_type": "execute_result"
    }
   ],
   "source": [
    "logdir = os.path.join(\"logs\", datetime.datetime.now().strftime(\"%Y%m%d-%H%M%S\"))\n",
    "tensorboard_callback = TensorBoard(logdir, histogram_freq=1)\n",
    "\n",
    "model.fit(\n",
    "    x, y,\n",
    "    batch_size=1024,\n",
    "    validation_split=.2,\n",
    "    epochs=50,\n",
    "    callbacks=[\n",
    "#         print_callback, \n",
    "        EarlyStopping(min_delta=.02, monitor='val_loss', patience=10),\n",
    "        tensorboard_callback,\n",
    "    ],\n",
    ")"
   ]
  },
  {
   "cell_type": "code",
   "execution_count": 69,
   "metadata": {},
   "outputs": [],
   "source": [
    "%load_ext tensorboard"
   ]
  },
  {
   "cell_type": "code",
   "execution_count": 70,
   "metadata": {},
   "outputs": [
    {
     "data": {
      "text/html": [
       "\n",
       "      <iframe id=\"tensorboard-frame-beb45d9155034ef4\" width=\"100%\" height=\"800\" frameborder=\"0\">\n",
       "      </iframe>\n",
       "      <script>\n",
       "        (function() {\n",
       "          const frame = document.getElementById(\"tensorboard-frame-beb45d9155034ef4\");\n",
       "          const url = new URL(\"/\", window.location);\n",
       "          url.port = 6006;\n",
       "          frame.src = url;\n",
       "        })();\n",
       "      </script>\n",
       "  "
      ],
      "text/plain": [
       "<IPython.core.display.HTML object>"
      ]
     },
     "metadata": {},
     "output_type": "display_data"
    }
   ],
   "source": [
    "%tensorboard --logdir logs"
   ]
  },
  {
   "cell_type": "markdown",
   "metadata": {
    "colab_type": "text",
    "id": "zE4a4O7Bp5x1"
   },
   "source": [
    "# Resources and Stretch Goals"
   ]
  },
  {
   "cell_type": "markdown",
   "metadata": {
    "colab_type": "text",
    "id": "uT3UV3gap9H6"
   },
   "source": [
    "## Stretch goals:\n",
    "- Refine the training and generation of text to be able to ask for different genres/styles of Shakespearean text (e.g. plays versus sonnets)\n",
    "- Train a classification model that takes text and returns which work of Shakespeare it is most likely to be from\n",
    "- Make it more performant! Many possible routes here - lean on Keras, optimize the code, and/or use more resources (AWS, etc.)\n",
    "- Revisit the news example from class, and improve it - use categories or tags to refine the model/generation, or train a news classifier\n",
    "- Run on bigger, better data\n",
    "\n",
    "## Resources:\n",
    "- [The Unreasonable Effectiveness of Recurrent Neural Networks](https://karpathy.github.io/2015/05/21/rnn-effectiveness/) - a seminal writeup demonstrating a simple but effective character-level NLP RNN\n",
    "- [Simple NumPy implementation of RNN](https://github.com/JY-Yoon/RNN-Implementation-using-NumPy/blob/master/RNN%20Implementation%20using%20NumPy.ipynb) - Python 3 version of the code from \"Unreasonable Effectiveness\"\n",
    "- [TensorFlow RNN Tutorial](https://github.com/tensorflow/models/tree/master/tutorials/rnn) - code for training a RNN on the Penn Tree Bank language dataset\n",
    "- [4 part tutorial on RNN](http://www.wildml.com/2015/09/recurrent-neural-networks-tutorial-part-1-introduction-to-rnns/) - relates RNN to the vanishing gradient problem, and provides example implementation\n",
    "- [RNN training tips and tricks](https://github.com/karpathy/char-rnn#tips-and-tricks) - some rules of thumb for parameterizing and training your RNN"
   ]
  }
 ],
 "metadata": {
  "kernelspec": {
   "display_name": "Python 3",
   "language": "python",
   "name": "python3"
  },
  "language_info": {
   "codemirror_mode": {
    "name": "ipython",
    "version": 3
   },
   "file_extension": ".py",
   "mimetype": "text/x-python",
   "name": "python",
   "nbconvert_exporter": "python",
   "pygments_lexer": "ipython3",
   "version": "3.8.5"
  }
 },
 "nbformat": 4,
 "nbformat_minor": 4
}
